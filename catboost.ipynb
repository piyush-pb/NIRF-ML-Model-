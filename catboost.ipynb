{
 "cells": [
  {
   "cell_type": "markdown",
   "id": "3cd38d67",
   "metadata": {},
   "source": [
    "**Import Python Libraries**"
   ]
  },
  {
   "cell_type": "code",
   "execution_count": 1,
   "id": "071063d2",
   "metadata": {},
   "outputs": [],
   "source": [
    "import seaborn as sns"
   ]
  },
  {
   "cell_type": "code",
   "execution_count": 2,
   "id": "c4cf4508",
   "metadata": {},
   "outputs": [],
   "source": [
    "import matplotlib.pyplot as plt"
   ]
  },
  {
   "cell_type": "code",
   "execution_count": 3,
   "id": "0a0791f0",
   "metadata": {},
   "outputs": [],
   "source": [
    "import numpy as np"
   ]
  },
  {
   "cell_type": "code",
   "execution_count": 4,
   "id": "60c4280e",
   "metadata": {},
   "outputs": [],
   "source": [
    "import pandas as pd"
   ]
  },
  {
   "cell_type": "code",
   "execution_count": 36,
   "id": "b717e5df",
   "metadata": {},
   "outputs": [],
   "source": [
    "import catboost as ctb"
   ]
  },
  {
   "cell_type": "markdown",
   "id": "9e7d8f27",
   "metadata": {},
   "source": [
    "**Import python dependencies**"
   ]
  },
  {
   "cell_type": "code",
   "execution_count": 6,
   "id": "4fdb77ac",
   "metadata": {},
   "outputs": [],
   "source": [
    "from numpy import mean\n",
    "from numpy import std\n",
    "from numpy import asarray"
   ]
  },
  {
   "cell_type": "code",
   "execution_count": 7,
   "id": "6f718b73",
   "metadata": {},
   "outputs": [],
   "source": [
    "from sklearn.preprocessing import Normalizer"
   ]
  },
  {
   "cell_type": "code",
   "execution_count": 8,
   "id": "b71686a2",
   "metadata": {},
   "outputs": [],
   "source": [
    "from sklearn.model_selection import train_test_split\n",
    "from sklearn.model_selection import cross_val_score\n",
    "from sklearn.model_selection import RepeatedKFold"
   ]
  },
  {
   "cell_type": "code",
   "execution_count": 33,
   "id": "76219fac",
   "metadata": {},
   "outputs": [],
   "source": [
    "from sklearn.metrics import mean_squared_error\n",
    "from sklearn.metrics import accuracy_score\n",
    "from sklearn.metrics import mean_absolute_error, r2_score"
   ]
  },
  {
   "cell_type": "code",
   "execution_count": 10,
   "id": "c5748a45",
   "metadata": {},
   "outputs": [],
   "source": [
    "np.random.seed(7)"
   ]
  },
  {
   "cell_type": "code",
   "execution_count": 11,
   "id": "84810cbb",
   "metadata": {},
   "outputs": [],
   "source": [
    "from hyperopt import hp"
   ]
  },
  {
   "cell_type": "markdown",
   "id": "69ae7fd2",
   "metadata": {},
   "source": [
    "**Setting Parameters of Regression**"
   ]
  },
  {
   "cell_type": "code",
   "execution_count": 12,
   "id": "f74e2221",
   "metadata": {},
   "outputs": [],
   "source": [
    "ctb_params_reg = {\n",
    "    'learning_rate' : hp.choice('learning_rate' , np.arange(0.05, 0.31, 0.05)),\n",
    "    'max_depth' : hp.choice('max_depth' , np.arange(5, 16, 5, dtype = int)),\n",
    "    'colsample_bylevel' : hp.choice('colsample_bylevel' , np.arange(0.3, 0.8, 0.1)),\n",
    "    'n_estimators' : 100,\n",
    "    'eval_metric' : 'RMSE'\n",
    "}"
   ]
  },
  {
   "cell_type": "markdown",
   "id": "1297d6f6",
   "metadata": {},
   "source": [
    "**Setting fit parameters**"
   ]
  },
  {
   "cell_type": "code",
   "execution_count": 13,
   "id": "b55a07ef",
   "metadata": {},
   "outputs": [],
   "source": [
    "ctb_params_fit = {\n",
    "    'early_stopping_rounds' : 10,\n",
    "    'verbose' : False\n",
    "}"
   ]
  },
  {
   "cell_type": "code",
   "execution_count": 14,
   "id": "6d9c7847",
   "metadata": {},
   "outputs": [],
   "source": [
    "ctb_para = dict()\n",
    "ctb_para['params_reg'] = ctb_params_reg\n",
    "ctb_para['params_fit'] = ctb_params_fit\n",
    "ctb_para['func_loss'] = lambda y, pred: np.sqrt(mean_squared_error(y, pred))"
   ]
  },
  {
   "cell_type": "markdown",
   "id": "3918f363",
   "metadata": {},
   "source": [
    "**CatBoostRegression model class containing initialization function, process for setting up best parameters, cat_reg and train _reg for training the model**"
   ]
  },
  {
   "cell_type": "code",
   "execution_count": 37,
   "id": "c76d56d4",
   "metadata": {},
   "outputs": [],
   "source": [
    "from hyperopt import fmin, tpe, Trials, STATUS_OK, STATUS_FAIL\n",
    "\n",
    "class CatOptimizer(object):\n",
    "    def __init__ (self, x_train, x_test, y_train, y_test):\n",
    "        self.x_train = x_train\n",
    "        self.x_test = x_test\n",
    "        self.y_train = y_train\n",
    "        self.y_test = y_test\n",
    "        \n",
    "    def process (self, f_name, space, trials, algo, max_evals):\n",
    "        fn = getattr(self, f_name)\n",
    "        try:\n",
    "            result = fmin(fn = fn, space = space, algo = algo, max_evals = max_evals, trials = trials)\n",
    "        except Exception as e:\n",
    "            return { 'status' : STATUS_FAIL,\n",
    "                    'exception' : str(e)}\n",
    "        return result, trials\n",
    "    \n",
    "    def cat_reg (self, para):\n",
    "        reg = ctb.CatBoostRegressor(**para['params_reg'])\n",
    "        return self.train_reg(reg, para)\n",
    "    \n",
    "    def train_reg (self, reg, para):\n",
    "        reg.fit(self.x_train, self.y_train, eval_set = [(self.x_train, self.y_train), (self.x_test, self.y_test)],\n",
    "                **para['params_fit'])\n",
    "        pred = reg.predict(self.x_test)\n",
    "        loss = para['func_loss'](self.y_test, pred)\n",
    "        return {'loss' : loss, 'status' : STATUS_OK}"
   ]
  },
  {
   "cell_type": "code",
   "execution_count": 16,
   "id": "adbb6eb8",
   "metadata": {},
   "outputs": [
    {
     "name": "stdout",
     "output_type": "stream",
     "text": [
      "['SCORE' 'SS/20' 'FSR/30' 'FQE/20' 'FRU/30' 'TLR/100' 'PU/35' 'QP/40'\n",
      " 'IPR/15' 'FPPP/10' 'RP/100' 'GPH/40' 'GUE/15' 'MS/25' 'GPHD/20' 'GO/100'\n",
      " 'RD/30' 'WD/30' 'ESCS/20' 'PCS/20' 'OI/100' 'PR/100' 'RANK']\n"
     ]
    }
   ],
   "source": [
    "df_t_train = pd.read_csv(\"2021-NIRF_train.csv\")\n",
    "train_data = pd.DataFrame(df_t_train)\n",
    "print(train_data.columns.values)"
   ]
  },
  {
   "cell_type": "code",
   "execution_count": 17,
   "id": "2a41e47c",
   "metadata": {},
   "outputs": [
    {
     "name": "stdout",
     "output_type": "stream",
     "text": [
      "['SCORE' 'SS/20' 'FSR/30' 'FQE/20' 'FRU/30' 'TLR/100' 'PU/35' 'QP/40'\n",
      " 'IPR/15' 'FPPP/10' 'RP/100' 'GPH/40' 'GUE/15' 'MS/25' 'GPHD/20' 'GO/100'\n",
      " 'RD/30' 'WD/30' 'ESCS/20' 'PCS/20' 'OI/100' 'PR/100' 'RANK']\n"
     ]
    }
   ],
   "source": [
    "test_data = pd.read_csv(\"2021-NIRF_test.csv\")\n",
    "print(test_data.columns.values)"
   ]
  },
  {
   "cell_type": "code",
   "execution_count": 18,
   "id": "5143dd8b",
   "metadata": {},
   "outputs": [],
   "source": [
    "train_labels = train_data['RANK']\n",
    "test_labels = test_data['RANK']\n",
    "train_features = train_data.drop('RANK', axis = 1)\n",
    "test_features = test_data.drop('RANK', axis = 1)"
   ]
  },
  {
   "cell_type": "code",
   "execution_count": 19,
   "id": "37719026",
   "metadata": {},
   "outputs": [
    {
     "name": "stdout",
     "output_type": "stream",
     "text": [
      "(190, 22)\n",
      "(20, 22)\n",
      "(190,)\n",
      "(20,)\n"
     ]
    }
   ],
   "source": [
    "print(train_features.shape)\n",
    "print(test_features.shape)\n",
    "print(train_labels.shape)\n",
    "print(test_labels.shape)"
   ]
  },
  {
   "cell_type": "code",
   "execution_count": 20,
   "id": "2c8a34db",
   "metadata": {},
   "outputs": [],
   "source": [
    "train_X = train_features\n",
    "test_X = test_features\n",
    "train_Y = train_labels\n",
    "test_Y = test_labels"
   ]
  },
  {
   "cell_type": "code",
   "execution_count": 21,
   "id": "7cc46d73",
   "metadata": {},
   "outputs": [],
   "source": [
    "transformer_train = Normalizer().fit(train_X)\n",
    "train_X = transformer_train.transform(train_X)\n",
    "t_test = test_X\n",
    "test_X = transformer_train.transform(test_X)"
   ]
  },
  {
   "cell_type": "markdown",
   "id": "d403d52e",
   "metadata": {},
   "source": [
    "**Result class which has init function for initialisation , record function to record the result of regression, get_metrics for getting metrics, get_results for getting result**"
   ]
  },
  {
   "cell_type": "code",
   "execution_count": 22,
   "id": "a41c4887",
   "metadata": {},
   "outputs": [],
   "source": [
    "class Result():\n",
    "    def __init__ (self, y_true):\n",
    "        self.results = pd.DataFrame({'true_test' : y_true})\n",
    "        self.metrics = pd.DataFrame(columns = ('model','rmse','r2'))\n",
    "    def record (self, model, y_pred):\n",
    "        y_true = self.results.true_test.values\n",
    "        y_pred = pd.Series(y_pred, name = model+'_pred')\n",
    "        self.results = pd.concat([self.results, y_pred], axis = 1)\n",
    "        rmse = np.sqrt(mean_squared_error(y_true,y_pred))\n",
    "        r_squared = r2_score(y_true, y_pred)\n",
    "        row_loc = len(self.metrics) + 1\n",
    "        self.metrics.loc[row_loc] = [model, rmse, r_squared]\n",
    "    def get_metrics(self):\n",
    "        return self.metrics\n",
    "    def get_results(self):\n",
    "        return self.results\n",
    "    \n",
    "res_r = Result(test_Y)"
   ]
  },
  {
   "cell_type": "code",
   "execution_count": 23,
   "id": "90fc51b1",
   "metadata": {},
   "outputs": [
    {
     "name": "stdout",
     "output_type": "stream",
     "text": [
      "100%|███████████████████████████████████████████████| 100/100 [21:43<00:00, 13.03s/trial, best loss: 7.836680825832662]\n",
      "({'colsample_bylevel': 3, 'learning_rate': 3, 'max_depth': 0}, <hyperopt.base.Trials object at 0x000002344CF48610>)\n"
     ]
    }
   ],
   "source": [
    "opt_model = CatOptimizer(train_X, test_X, train_Y, test_Y)\n",
    "ctb_opt = opt_model.process(f_name = 'cat_reg', space = ctb_para, trials = Trials(), algo = tpe.suggest, max_evals = 100)\n",
    "print(ctb_opt)"
   ]
  },
  {
   "cell_type": "code",
   "execution_count": 27,
   "id": "96454a60",
   "metadata": {},
   "outputs": [],
   "source": [
    "best_p = {'learning_rate' : np.arange(0.05, 0.31, 0.05)[ctb_opt[0]['learning_rate']],\n",
    "         'max_depth' : np.arange(5, 16, 1, dtype = int)[ctb_opt[0]['max_depth']],\n",
    "         'colsample_bylevel' : np.arange(0.3, 0.8, 0.1)[ctb_opt[0]['colsample_bylevel']]}"
   ]
  },
  {
   "cell_type": "code",
   "execution_count": 28,
   "id": "c2c7ed58",
   "metadata": {},
   "outputs": [],
   "source": [
    "model = ctb.CatBoostRegressor( verbose = 0, n_estimators = 100, colsample_bylevel = best_p['colsample_bylevel'],\n",
    "                             learning_rate = best_p['learning_rate'], max_depth = best_p['max_depth'], \n",
    "                             early_stopping_rounds = 10)"
   ]
  },
  {
   "cell_type": "code",
   "execution_count": 29,
   "id": "757ee069",
   "metadata": {},
   "outputs": [
    {
     "data": {
      "text/plain": [
       "<catboost.core.CatBoostRegressor at 0x2344cf758d0>"
      ]
     },
     "execution_count": 29,
     "metadata": {},
     "output_type": "execute_result"
    }
   ],
   "source": [
    "model.fit(train_X, train_Y)"
   ]
  },
  {
   "cell_type": "code",
   "execution_count": 31,
   "id": "38344659",
   "metadata": {},
   "outputs": [],
   "source": [
    "pred_y = model.predict(test_X)"
   ]
  },
  {
   "cell_type": "code",
   "execution_count": 34,
   "id": "861d2c77",
   "metadata": {},
   "outputs": [],
   "source": [
    "res_r.record('Cat Boost', pred_y)"
   ]
  },
  {
   "cell_type": "code",
   "execution_count": 35,
   "id": "903adf31",
   "metadata": {},
   "outputs": [
    {
     "data": {
      "text/html": [
       "<div>\n",
       "<style scoped>\n",
       "    .dataframe tbody tr th:only-of-type {\n",
       "        vertical-align: middle;\n",
       "    }\n",
       "\n",
       "    .dataframe tbody tr th {\n",
       "        vertical-align: top;\n",
       "    }\n",
       "\n",
       "    .dataframe thead th {\n",
       "        text-align: right;\n",
       "    }\n",
       "</style>\n",
       "<table border=\"1\" class=\"dataframe\">\n",
       "  <thead>\n",
       "    <tr style=\"text-align: right;\">\n",
       "      <th></th>\n",
       "      <th>model</th>\n",
       "      <th>rmse</th>\n",
       "      <th>r2</th>\n",
       "    </tr>\n",
       "  </thead>\n",
       "  <tbody>\n",
       "    <tr>\n",
       "      <th>1</th>\n",
       "      <td>Cat Boost</td>\n",
       "      <td>7.663461</td>\n",
       "      <td>0.98169</td>\n",
       "    </tr>\n",
       "  </tbody>\n",
       "</table>\n",
       "</div>"
      ],
      "text/plain": [
       "       model      rmse       r2\n",
       "1  Cat Boost  7.663461  0.98169"
      ]
     },
     "execution_count": 35,
     "metadata": {},
     "output_type": "execute_result"
    }
   ],
   "source": [
    "res_r.get_metrics().head()"
   ]
  },
  {
   "cell_type": "markdown",
   "id": "7f6e1591",
   "metadata": {},
   "source": [
    "**Final R2 and RMSE score**"
   ]
  },
  {
   "cell_type": "code",
   "execution_count": null,
   "id": "c0f8ac15",
   "metadata": {},
   "outputs": [],
   "source": []
  }
 ],
 "metadata": {
  "kernelspec": {
   "display_name": "Python 3 (ipykernel)",
   "language": "python",
   "name": "python3"
  },
  "language_info": {
   "codemirror_mode": {
    "name": "ipython",
    "version": 3
   },
   "file_extension": ".py",
   "mimetype": "text/x-python",
   "name": "python",
   "nbconvert_exporter": "python",
   "pygments_lexer": "ipython3",
   "version": "3.11.1"
  }
 },
 "nbformat": 4,
 "nbformat_minor": 5
}
